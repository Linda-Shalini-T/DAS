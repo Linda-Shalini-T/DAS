{
 "cells": [
  {
   "cell_type": "code",
   "execution_count": 13,
   "id": "747b8775-a1a4-44d3-be61-0f4e25dd3a91",
   "metadata": {},
   "outputs": [
    {
     "name": "stdout",
     "output_type": "stream",
     "text": [
      "1970-01-20 08:35:31.200000\n"
     ]
    }
   ],
   "source": [
    "import pandas as pd\n",
    "timestamp = pd.to_datetime(1672531200, unit='ms')  # Unix timestamp \n",
    "print(timestamp) "
   ]
  },
  {
   "cell_type": "code",
   "execution_count": 15,
   "id": "eb69014e-ca03-45a3-8657-9639f6731c09",
   "metadata": {},
   "outputs": [
    {
     "name": "stdout",
     "output_type": "stream",
     "text": [
      "        Date  Year  Month  Day  Hour  Minute  Weekday  Day_Name\n",
      "0 2023-06-15  2023      6   15     0       0        3  Thursday\n",
      "1 2023-07-20  2023      7   20     0       0        3  Thursday\n",
      "2 2023-08-25  2023      8   25     0       0        4    Friday\n"
     ]
    }
   ],
   "source": [
    "# Creating a Pandas DataFrame with dates \n",
    "data = {'Date': ['2023-06-15', '2023-07-20', '2023-08-25']} \n",
    "df = pd.DataFrame(data) \n",
    "# Convert to datetime \n",
    "df['Date'] = pd.to_datetime(df['Date']) \n",
    "# Extract components \n",
    "df['Year'] = df['Date'].dt.year \n",
    "df['Month'] = df['Date'].dt.month \n",
    "df['Day'] = df['Date'].dt.day \n",
    "df['Hour'] = df['Date'].dt.hour  # Default is 0 if not specified \n",
    "df['Minute'] = df['Date'].dt.minute  # Default is 0 if not specified \n",
    "df['Weekday'] = df['Date'].dt.weekday  # Monday=0, Sunday=6 \n",
    "df['Day_Name'] = df['Date'].dt.day_name() \n",
    "print(df) \n"
   ]
  },
  {
   "cell_type": "code",
   "execution_count": 19,
   "id": "d878a122-cdca-483b-a950-d474c4526d35",
   "metadata": {},
   "outputs": [
    {
     "name": "stdout",
     "output_type": "stream",
     "text": [
      "DatetimeIndex(['2023-01-01 00:00:00+00:00', '2023-01-02 00:00:00+00:00',\n",
      "               '2023-01-03 00:00:00+00:00'],\n",
      "              dtype='datetime64[ns, UTC]', freq='D')\n",
      "DatetimeIndex(['2023-01-01 05:30:00+05:30', '2023-01-02 05:30:00+05:30',\n",
      "               '2023-01-03 05:30:00+05:30'],\n",
      "              dtype='datetime64[ns, Asia/Kolkata]', freq='D')\n"
     ]
    }
   ],
   "source": [
    "tz_aware = pd.date_range('2023-01-01', periods=3, freq='D', tz='UTC') \n",
    "print(tz_aware) \n",
    "\n",
    "tz_converted = tz_aware.tz_convert('Asia/Kolkata') \n",
    "print(tz_converted)"
   ]
  },
  {
   "cell_type": "code",
   "execution_count": 21,
   "id": "0781e43d-f44d-4367-9fd5-52aa972d20da",
   "metadata": {},
   "outputs": [
    {
     "name": "stdout",
     "output_type": "stream",
     "text": [
      "DatetimeIndex(['2023-01-01 00:00:00-05:00', '2023-01-02 00:00:00-05:00',\n",
      "               '2023-01-03 00:00:00-05:00'],\n",
      "              dtype='datetime64[ns, America/New_York]', freq=None)\n"
     ]
    }
   ],
   "source": [
    "# Localizing naive timestamps \n",
    "naive_dates = pd.date_range('2023-01-01', periods=3, freq='D') \n",
    "localized_dates = naive_dates.tz_localize('America/New_York') \n",
    "print(localized_dates) "
   ]
  },
  {
   "cell_type": "code",
   "execution_count": null,
   "id": "64c2fecf-2a19-4a1b-8f7a-d6251e698dfa",
   "metadata": {},
   "outputs": [],
   "source": []
  }
 ],
 "metadata": {
  "kernelspec": {
   "display_name": "Python 3 (ipykernel)",
   "language": "python",
   "name": "python3"
  },
  "language_info": {
   "codemirror_mode": {
    "name": "ipython",
    "version": 3
   },
   "file_extension": ".py",
   "mimetype": "text/x-python",
   "name": "python",
   "nbconvert_exporter": "python",
   "pygments_lexer": "ipython3",
   "version": "3.12.4"
  }
 },
 "nbformat": 4,
 "nbformat_minor": 5
}
