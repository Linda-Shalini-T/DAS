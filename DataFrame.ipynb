{
 "cells": [
  {
   "cell_type": "code",
   "execution_count": 4,
   "id": "8c037038-acce-4226-b881-277b22218226",
   "metadata": {},
   "outputs": [
    {
     "name": "stdout",
     "output_type": "stream",
     "text": [
      "      name  age\n",
      "0    alice   25\n",
      "1      bob   30\n",
      "2  charlie   35\n"
     ]
    }
   ],
   "source": [
    "import pandas as pd\n",
    "data={'name': ['alice','bob','charlie'],\n",
    "      'age': [25,30,35]}\n",
    "df=pd.DataFrame(data)\n",
    "print(df)"
   ]
  },
  {
   "cell_type": "code",
   "execution_count": 6,
   "id": "f0a5eb96-5a67-43aa-92ab-2a8e083cb925",
   "metadata": {},
   "outputs": [
    {
     "name": "stdout",
     "output_type": "stream",
     "text": [
      "         age\n",
      "name        \n",
      "alice     25\n",
      "bob       30\n",
      "charlie   35\n"
     ]
    }
   ],
   "source": [
    "df.set_index('name',inplace=True)\n",
    "print(df)"
   ]
  },
  {
   "cell_type": "code",
   "execution_count": 8,
   "id": "81e7388f-73ea-4de8-916b-904a10e9a3b9",
   "metadata": {},
   "outputs": [
    {
     "name": "stdout",
     "output_type": "stream",
     "text": [
      "                     population\n",
      "country city                   \n",
      "usa     newyork           80000\n",
      "        los angeles       40000\n",
      "canada  toronta          280000\n",
      "        varcouver         60000\n"
     ]
    }
   ],
   "source": [
    "data={'country':['usa','usa','canada','canada'],'city':['newyork','los angeles','toronta','varcouver'],'population':[80000,40000,280000,60000]}\n",
    "df=pd.DataFrame(data)\n",
    "df.set_index(['country','city'],inplace=True)\n",
    "print(df)\n",
    "      "
   ]
  },
  {
   "cell_type": "code",
   "execution_count": 10,
   "id": "cb2caa72-0ede-49f6-9d24-c9294b59c785",
   "metadata": {},
   "outputs": [
    {
     "name": "stdout",
     "output_type": "stream",
     "text": [
      "                     population\n",
      "country city                   \n",
      "usa     newyork           80000\n",
      "        los angeles       40000\n",
      "canada  toronta          280000\n",
      "        vancouver         60000\n"
     ]
    }
   ],
   "source": [
    "\n",
    "arrays = [['usa', 'usa', 'canada', 'canada'], ['newyork', 'los angeles', 'toronta', 'vancouver']]\n",
    "index = pd.MultiIndex.from_arrays(arrays, names=['country', 'city'])\n",
    "\n",
    "df = pd.DataFrame({'population': [80000, 40000, 280000, 60000]}, index=index)\n",
    "\n",
    "print(df)\n"
   ]
  },
  {
   "cell_type": "code",
   "execution_count": 12,
   "id": "ee61726b-0d7d-4fe2-a3ad-b1dc37e28bcc",
   "metadata": {},
   "outputs": [
    {
     "name": "stdout",
     "output_type": "stream",
     "text": [
      "population    80000\n",
      "Name: (usa, newyork), dtype: int64\n",
      "           population\n",
      "city                 \n",
      "toronta        280000\n",
      "vancouver       60000\n"
     ]
    }
   ],
   "source": [
    "print(df.loc['usa','newyork'])\n",
    "print(df.loc['canada'])"
   ]
  },
  {
   "cell_type": "code",
   "execution_count": 14,
   "id": "7df9327c-7a57-4e75-b9fe-604dbc0b2584",
   "metadata": {},
   "outputs": [
    {
     "name": "stdout",
     "output_type": "stream",
     "text": [
      "                     population\n",
      "country city                   \n",
      "usa     newyork           80000\n",
      "        los angeles       40000\n",
      "canada  toronta          280000\n",
      "        vancouver         60000\n"
     ]
    }
   ],
   "source": [
    "df_reset=df.reset_index()\n",
    "print(df)"
   ]
  }
 ],
 "metadata": {
  "kernelspec": {
   "display_name": "Python 3 (ipykernel)",
   "language": "python",
   "name": "python3"
  },
  "language_info": {
   "codemirror_mode": {
    "name": "ipython",
    "version": 3
   },
   "file_extension": ".py",
   "mimetype": "text/x-python",
   "name": "python",
   "nbconvert_exporter": "python",
   "pygments_lexer": "ipython3",
   "version": "3.12.4"
  }
 },
 "nbformat": 4,
 "nbformat_minor": 5
}
