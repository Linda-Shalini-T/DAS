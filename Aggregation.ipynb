{
 "cells": [
  {
   "cell_type": "code",
   "execution_count": 8,
   "id": "be8b5d7d-1362-46aa-aaba-f01c49986940",
   "metadata": {},
   "outputs": [
    {
     "name": "stdout",
     "output_type": "stream",
     "text": [
      "dept\n",
      "Eng     7500\n",
      "HR      3500\n",
      "Mark    3000\n",
      "Name: sales, dtype: int64\n"
     ]
    }
   ],
   "source": [
    "import pandas as pd\n",
    "data={'dept':['HR','Eng','HR','Eng','Mark'],'sales':[2000,4000,1500,3500,3000]}\n",
    "df=pd.DataFrame(data)\n",
    "group=df.groupby('dept')['sales'].sum()\n",
    "print(group)\n",
    "      "
   ]
  },
  {
   "cell_type": "code",
   "execution_count": 10,
   "id": "fc1f0f58-d2b2-4214-ac41-285c2af4cd77",
   "metadata": {},
   "outputs": [
    {
     "name": "stdout",
     "output_type": "stream",
     "text": [
      "       sum   max    mean\n",
      "dept                    \n",
      "Eng   7500  4000  3750.0\n",
      "HR    3500  2000  1750.0\n",
      "Mark  3000  3000  3000.0\n"
     ]
    }
   ],
   "source": [
    "group=df.groupby('dept')['sales'].agg(['sum','max','mean'])\n",
    "print(group)"
   ]
  },
  {
   "cell_type": "code",
   "execution_count": 12,
   "id": "b0e3677b-d0b8-4f59-a60b-db400ab17d0f",
   "metadata": {},
   "outputs": [
    {
     "name": "stdout",
     "output_type": "stream",
     "text": [
      "dept  region\n",
      "Eng   south     7500\n",
      "HR    north     3500\n",
      "Mark  north     3000\n",
      "Name: sales, dtype: int64\n"
     ]
    }
   ],
   "source": [
    "import pandas as pd\n",
    "data={'dept':['HR','Eng','HR','Eng','Mark'],'region':['north','south','north','south','north'],'sales':[2000,4000,1500,3500,3000]}\n",
    "df=pd.DataFrame(data)\n",
    "group=df.groupby(['dept','region'])['sales'].sum()\n",
    "print(group)\n",
    "      "
   ]
  },
  {
   "cell_type": "code",
   "execution_count": 14,
   "id": "86cb0647-d606-46f3-aff0-7c947e40728a",
   "metadata": {},
   "outputs": [
    {
     "name": "stdout",
     "output_type": "stream",
     "text": [
      "   dept region  sales\n",
      "0   Eng  south   7500\n",
      "1    HR  north   3500\n",
      "2  Mark  north   3000\n"
     ]
    }
   ],
   "source": [
    "group_reset=group.reset_index()\n",
    "print(group_reset)"
   ]
  },
  {
   "cell_type": "code",
   "execution_count": 16,
   "id": "8d5f3732-01d9-45b7-9bd8-5fe55c551914",
   "metadata": {},
   "outputs": [
    {
     "name": "stdout",
     "output_type": "stream",
     "text": [
      "         value1            value2\n",
      "            sum       mean    max\n",
      "category                         \n",
      "A            80  26.666667    500\n",
      "B            70  35.000000    400\n"
     ]
    }
   ],
   "source": [
    "df=pd.DataFrame({'category':['A','A','B','B','A'],'value1':[10,20,30,40,50],'value2':[100,200,300,400,500]})\n",
    "group=df.groupby('category').agg({'value1':['sum','mean'],'value2':'max'})\n",
    "print(group)"
   ]
  },
  {
   "cell_type": "code",
   "execution_count": 18,
   "id": "c575f247-4eb5-4fea-aae6-b463036bf357",
   "metadata": {},
   "outputs": [
    {
     "name": "stdout",
     "output_type": "stream",
     "text": [
      "<pandas.core.groupby.generic.DataFrameGroupBy object at 0x0000015AFA631040>\n"
     ]
    }
   ],
   "source": [
    "import pandas as pd\n",
    "data={'store':['A','A','A','B','B','B','C','C','C'],'month':['jan','feb','mar','jan','feb','mar','jan','feb','mar'],'sales':[2500,3000,3500,2000,2200,2700,4000,4200,4500]}\n",
    "df=pd.DataFrame(data)\n",
    "group=df.groupby('store')\n",
    "print(group)"
   ]
  },
  {
   "cell_type": "code",
   "execution_count": 20,
   "id": "c8c64564-5b6c-4005-a185-d01e33dcda31",
   "metadata": {},
   "outputs": [
    {
     "name": "stdout",
     "output_type": "stream",
     "text": [
      "         sum         mean\n",
      "store                    \n",
      "A       9000  3000.000000\n",
      "B       6900  2300.000000\n",
      "C      12700  4233.333333\n"
     ]
    }
   ],
   "source": [
    "group_agg=group['sales'].agg(['sum','mean'])\n",
    "print(group_agg)"
   ]
  },
  {
   "cell_type": "code",
   "execution_count": 22,
   "id": "9f51a44c-a2f4-4c07-9aff-ea050cf1684e",
   "metadata": {},
   "outputs": [
    {
     "name": "stdout",
     "output_type": "stream",
     "text": [
      "  store    sum         mean\n",
      "0     A   9000  3000.000000\n",
      "1     B   6900  2300.000000\n",
      "2     C  12700  4233.333333\n"
     ]
    }
   ],
   "source": [
    "group_agg_reset=group_agg.reset_index()\n",
    "print(group_agg_reset)"
   ]
  },
  {
   "cell_type": "code",
   "execution_count": 24,
   "id": "7794809d-4a61-48ec-ba35-f36d0574a12b",
   "metadata": {},
   "outputs": [
    {
     "name": "stdout",
     "output_type": "stream",
     "text": [
      "store\n",
      "A    1000\n",
      "B     700\n",
      "C     500\n",
      "Name: sales, dtype: int64\n"
     ]
    }
   ],
   "source": [
    "def sales_range(group):\n",
    "    return group.max()-group.min()\n",
    "sales_range_result=group['sales'].apply(sales_range)\n",
    "print(sales_range_result)"
   ]
  },
  {
   "cell_type": "code",
   "execution_count": 26,
   "id": "fe45c633-191b-44d9-b3d4-4d15f037a1fd",
   "metadata": {},
   "outputs": [
    {
     "name": "stdout",
     "output_type": "stream",
     "text": [
      "       sales                         \n",
      "         sum         mean sales_range\n",
      "store                                \n",
      "A       9000  3000.000000        1000\n",
      "B       6900  2300.000000         700\n",
      "C      12700  4233.333333         500\n"
     ]
    }
   ],
   "source": [
    "group_com=group.agg({'sales':['sum','mean',sales_range]})\n",
    "print(group_com)"
   ]
  }
 ],
 "metadata": {
  "kernelspec": {
   "display_name": "Python 3 (ipykernel)",
   "language": "python",
   "name": "python3"
  },
  "language_info": {
   "codemirror_mode": {
    "name": "ipython",
    "version": 3
   },
   "file_extension": ".py",
   "mimetype": "text/x-python",
   "name": "python",
   "nbconvert_exporter": "python",
   "pygments_lexer": "ipython3",
   "version": "3.12.4"
  }
 },
 "nbformat": 4,
 "nbformat_minor": 5
}
