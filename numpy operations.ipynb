{
 "cells": [
  {
   "cell_type": "code",
   "execution_count": 1,
   "id": "2ee3da0f-168f-4423-bac6-0414bd9bfd86",
   "metadata": {},
   "outputs": [
    {
     "name": "stdout",
     "output_type": "stream",
     "text": [
      "[[-5.   -5.   -5.   ... -5.   -5.   -5.  ]\n",
      " [-4.99 -4.99 -4.99 ... -4.99 -4.99 -4.99]\n",
      " [-4.98 -4.98 -4.98 ... -4.98 -4.98 -4.98]\n",
      " ...\n",
      " [ 4.97  4.97  4.97 ...  4.97  4.97  4.97]\n",
      " [ 4.98  4.98  4.98 ...  4.98  4.98  4.98]\n",
      " [ 4.99  4.99  4.99 ...  4.99  4.99  4.99]]\n",
      "[[7.07106781 7.06400028 7.05693985 ... 7.04988652 7.05693985 7.06400028]\n",
      " [7.06400028 7.05692568 7.04985815 ... 7.04279774 7.04985815 7.05692568]\n",
      " [7.05693985 7.04985815 7.04278354 ... 7.03571603 7.04278354 7.04985815]\n",
      " ...\n",
      " [7.04988652 7.04279774 7.03571603 ... 7.0286414  7.03571603 7.04279774]\n",
      " [7.05693985 7.04985815 7.04278354 ... 7.03571603 7.04278354 7.04985815]\n",
      " [7.06400028 7.05692568 7.04985815 ... 7.04279774 7.04985815 7.05692568]]\n"
     ]
    }
   ],
   "source": [
    "import numpy as np\n",
    "points=np.arange(-5,5,0.01)\n",
    "xs,ys=np.meshgrid(points,points)\n",
    "print(ys)\n",
    "z=np.sqrt(xs**2+ys**2)\n",
    "print(z)"
   ]
  },
  {
   "cell_type": "code",
   "execution_count": 5,
   "id": "ccb5c52c-8c02-4701-b749-5eb24397edea",
   "metadata": {},
   "outputs": [
    {
     "name": "stdout",
     "output_type": "stream",
     "text": [
      "[1.1 2.2 1.3 1.4 2.5]\n"
     ]
    }
   ],
   "source": [
    "xarr=np.array([1.1,1.2,1.3,1.4,1.5])\n",
    "yarr=np.array([2.1,2.2,2.3,2.4,2.5])\n",
    "cond=np.array([True,False,True,True,False])\n",
    "result=np.where(cond,xarr,yarr)\n",
    "print(result)"
   ]
  },
  {
   "cell_type": "code",
   "execution_count": 9,
   "id": "f427342e-d283-43d4-8dad-6657ed313778",
   "metadata": {},
   "outputs": [
    {
     "name": "stdout",
     "output_type": "stream",
     "text": [
      "[[-0.31433855 -0.47987191  1.82289685 -0.54808922]\n",
      " [ 1.14885669  0.48364615 -0.84037318  0.18054803]\n",
      " [ 1.08966459 -0.94788039 -0.95788677 -0.10350206]\n",
      " [ 1.18369383  2.03460342 -1.50164302  0.90806416]]\n",
      "[[False False  True False]\n",
      " [ True  True False  True]\n",
      " [ True False False False]\n",
      " [ True  True False  True]]\n",
      "[[-2 -2  2 -2]\n",
      " [ 2  2 -2  2]\n",
      " [ 2 -2 -2 -2]\n",
      " [ 2  2 -2  2]]\n",
      "[[-0.31433855 -0.47987191  2.         -0.54808922]\n",
      " [ 2.          2.         -0.84037318  2.        ]\n",
      " [ 2.         -0.94788039 -0.95788677 -0.10350206]\n",
      " [ 2.          2.         -1.50164302  2.        ]]\n"
     ]
    }
   ],
   "source": [
    "arr=np.random.randn(4,4)\n",
    "print(arr)\n",
    "print(arr>0)\n",
    "print(np.where(arr>0,2,-2))\n",
    "print(np.where(arr>0,2,arr))"
   ]
  },
  {
   "cell_type": "code",
   "execution_count": 11,
   "id": "97342fc6-2af8-42e5-bc5c-c292bb894999",
   "metadata": {},
   "outputs": [
    {
     "name": "stdout",
     "output_type": "stream",
     "text": [
      "[[-1.32085803 -1.05847759 -1.48708893 -1.01005734]\n",
      " [-0.25098062 -0.39382441 -0.98301924 -1.12930576]\n",
      " [-0.54971767 -0.65225954 -0.18737561  0.46779874]\n",
      " [ 1.00005206 -0.47192255 -1.42652026 -0.38850917]\n",
      " [ 0.68960083 -0.29058736  0.3676305  -0.26103483]]\n",
      "-0.4668228388160009\n",
      "-9.336456776320018\n",
      "[-1.21912047 -0.68928251 -0.23038852 -0.32172498  0.12640229]\n",
      "[-0.08638069 -0.57341429 -0.74327471 -0.46422167]\n"
     ]
    }
   ],
   "source": [
    "arr=np.random.randn(5,4)\n",
    "print(arr)\n",
    "print(arr.mean())\n",
    "print(arr.sum())\n",
    "print(arr.mean(axis=1))\n",
    "print(arr.mean(axis=0))"
   ]
  },
  {
   "cell_type": "code",
   "execution_count": 19,
   "id": "b22d010a-7ec0-47c9-b857-2b8f1f81463a",
   "metadata": {},
   "outputs": [
    {
     "name": "stdout",
     "output_type": "stream",
     "text": [
      "[ 0  1  3  6 10 15 21 28]\n"
     ]
    }
   ],
   "source": [
    "arr=np.array([0,1,2,3,4,5,6,7])\n",
    "print(arr.cumsum())"
   ]
  },
  {
   "cell_type": "code",
   "execution_count": 21,
   "id": "68db3af5-0f84-4591-ae37-ff43998d7752",
   "metadata": {},
   "outputs": [
    {
     "name": "stdout",
     "output_type": "stream",
     "text": [
      "[[0 1 2]\n",
      " [3 4 5]\n",
      " [6 7 8]]\n",
      "[[ 0  1  2]\n",
      " [ 3  5  7]\n",
      " [ 9 12 15]]\n",
      "[[  0   0   0]\n",
      " [  3  12  60]\n",
      " [  6  42 336]]\n"
     ]
    }
   ],
   "source": [
    "arr=np.array([[0,1,2],[3,4,5],[6,7,8]])\n",
    "print(arr)\n",
    "print(arr.cumsum(axis=0))\n",
    "print(arr.cumprod(axis=1))"
   ]
  },
  {
   "cell_type": "code",
   "execution_count": 3,
   "id": "4e6f9411-d8fd-47ec-8381-20e04993485b",
   "metadata": {},
   "outputs": [
    {
     "name": "stdout",
     "output_type": "stream",
     "text": [
      "True\n",
      "False\n"
     ]
    }
   ],
   "source": [
    "import numpy as np\n",
    "bools=np.array([False,False,True,False])\n",
    "print(bools.any())\n",
    "print(bools.all())"
   ]
  },
  {
   "cell_type": "code",
   "execution_count": 13,
   "id": "624e55f9-b45a-4f48-b8e5-542609049b33",
   "metadata": {},
   "outputs": [
    {
     "name": "stdout",
     "output_type": "stream",
     "text": [
      "[ 0.66705069 -1.13102112 -0.47894592 -0.29914767  0.72438587]\n",
      "[-1.13102112 -0.47894592 -0.29914767  0.66705069  0.72438587]\n"
     ]
    }
   ],
   "source": [
    "arr=np.random.randn(5)\n",
    "print(arr)\n",
    "arr.sort()\n",
    "print(arr)\n"
   ]
  },
  {
   "cell_type": "code",
   "execution_count": 15,
   "id": "26498d7a-6086-4966-9409-9ae85aaa2fff",
   "metadata": {},
   "outputs": [
    {
     "name": "stdout",
     "output_type": "stream",
     "text": [
      "[[-0.59207618 -1.79475306 -0.27043185]\n",
      " [ 0.57848851 -0.382154   -0.72846499]\n",
      " [-1.33728094 -1.21836079  0.48267249]\n",
      " [-0.0726027   0.81668949  1.02589258]\n",
      " [-0.81506277  0.77515337 -0.6167053 ]]\n",
      "[[-1.79475306 -0.59207618 -0.27043185]\n",
      " [-0.72846499 -0.382154    0.57848851]\n",
      " [-1.33728094 -1.21836079  0.48267249]\n",
      " [-0.0726027   0.81668949  1.02589258]\n",
      " [-0.81506277 -0.6167053   0.77515337]]\n",
      "[[-1.79475306 -1.21836079 -0.27043185]\n",
      " [-1.33728094 -0.6167053   0.48267249]\n",
      " [-0.81506277 -0.59207618  0.57848851]\n",
      " [-0.72846499 -0.382154    0.77515337]\n",
      " [-0.0726027   0.81668949  1.02589258]]\n"
     ]
    }
   ],
   "source": [
    "arr=np.random.randn(5,3)\n",
    "print(arr)\n",
    "arr.sort(1)\n",
    "print(arr)\n",
    "arr.sort(0)\n",
    "print(arr)"
   ]
  },
  {
   "cell_type": "code",
   "execution_count": 17,
   "id": "626247ec-2476-4d48-8b26-bff7919a35e4",
   "metadata": {},
   "outputs": [
    {
     "data": {
      "text/plain": [
       "array(['bob', 'joe', 'will'], dtype='<U4')"
      ]
     },
     "execution_count": 17,
     "metadata": {},
     "output_type": "execute_result"
    }
   ],
   "source": [
    "names=np.array(['bob','joe','will','bob','will','joe','joe'])\n",
    "np.unique(names)\n"
   ]
  },
  {
   "cell_type": "code",
   "execution_count": 19,
   "id": "10c4cfe8-d569-493f-8c9f-15a5c6c95cfd",
   "metadata": {},
   "outputs": [
    {
     "data": {
      "text/plain": [
       "array([1, 2, 3, 4])"
      ]
     },
     "execution_count": 19,
     "metadata": {},
     "output_type": "execute_result"
    }
   ],
   "source": [
    "ints=np.array([3,3,3,2,2,1,1,4,4])\n",
    "np.unique(ints)"
   ]
  },
  {
   "cell_type": "code",
   "execution_count": 21,
   "id": "3401c51c-c42c-41d9-8648-152b94a53860",
   "metadata": {},
   "outputs": [
    {
     "data": {
      "text/plain": [
       "['bob', 'joe', 'will']"
      ]
     },
     "execution_count": 21,
     "metadata": {},
     "output_type": "execute_result"
    }
   ],
   "source": [
    "sorted(set(names))"
   ]
  },
  {
   "cell_type": "code",
   "execution_count": 37,
   "id": "27f0212f-ca63-442b-a2ea-69c5669d11a1",
   "metadata": {},
   "outputs": [
    {
     "name": "stdout",
     "output_type": "stream",
     "text": [
      "[ True False False  True  True False  True]\n"
     ]
    }
   ],
   "source": [
    "values=np.array([6,0,0,3,2,5,6])\n",
    "print(np.in1d(values,[2,3,6]))\n",
    "\n"
   ]
  },
  {
   "cell_type": "code",
   "execution_count": 56,
   "id": "65b0cd30-acc6-4f0e-a4e7-2ebdd2c7089a",
   "metadata": {},
   "outputs": [
    {
     "name": "stdout",
     "output_type": "stream",
     "text": [
      "[0 1 2 3 4 5 6 7 8 9]\n"
     ]
    }
   ],
   "source": [
    "arr=np.arange(10)\n",
    "np.save('some_array',arr)\n",
    "print(arr)"
   ]
  },
  {
   "cell_type": "code",
   "execution_count": 58,
   "id": "2ed3ec4e-c15b-45e5-a765-05625da4451b",
   "metadata": {},
   "outputs": [
    {
     "name": "stdout",
     "output_type": "stream",
     "text": [
      "[0 1 2 3 4 5 6 7 8 9]\n"
     ]
    }
   ],
   "source": [
    "brr=np.arange(10)\n",
    "np.save('some_array',brr)\n",
    "print(brr)"
   ]
  },
  {
   "cell_type": "code",
   "execution_count": 43,
   "id": "128d4423-684f-4512-ba63-2008cfd0dc1b",
   "metadata": {},
   "outputs": [
    {
     "data": {
      "text/plain": [
       "array([0, 1, 2, 3, 4, 5, 6, 7, 8, 9])"
      ]
     },
     "execution_count": 43,
     "metadata": {},
     "output_type": "execute_result"
    }
   ],
   "source": [
    "np.load('some_array.npy'"
   ]
  },
  {
   "cell_type": "code",
   "execution_count": 60,
   "id": "4fb7c2fa-2799-4afd-9f4e-d3319bdd7da0",
   "metadata": {},
   "outputs": [
    {
     "ename": "NameError",
     "evalue": "name 'arch' is not defined",
     "output_type": "error",
     "traceback": [
      "\u001b[1;31m---------------------------------------------------------------------------\u001b[0m",
      "\u001b[1;31mNameError\u001b[0m                                 Traceback (most recent call last)",
      "Cell \u001b[1;32mIn[60], line 3\u001b[0m\n\u001b[0;32m      1\u001b[0m np\u001b[38;5;241m.\u001b[39msavez(\u001b[38;5;124m'\u001b[39m\u001b[38;5;124marray_arch.npz\u001b[39m\u001b[38;5;124m'\u001b[39m,a\u001b[38;5;241m=\u001b[39marr,b\u001b[38;5;241m=\u001b[39mbrr)\n\u001b[0;32m      2\u001b[0m np\u001b[38;5;241m.\u001b[39mload(\u001b[38;5;124m'\u001b[39m\u001b[38;5;124marray_arch.npz\u001b[39m\u001b[38;5;124m'\u001b[39m)\n\u001b[1;32m----> 3\u001b[0m \u001b[38;5;28mprint\u001b[39m(arch[\u001b[38;5;124m'\u001b[39m\u001b[38;5;124mb\u001b[39m\u001b[38;5;124m'\u001b[39m])\n",
      "\u001b[1;31mNameError\u001b[0m: name 'arch' is not defined"
     ]
    }
   ],
   "source": [
    "np.savez('array_arch.npz',a=arr,b=brr)\n",
    "np.load('array_arch.npz')\n",
    "print(arch['b'])"
   ]
  },
  {
   "cell_type": "code",
   "execution_count": 66,
   "id": "bff86c9f-05d2-4d09-9d40-3679eeb531fc",
   "metadata": {},
   "outputs": [
    {
     "name": "stdout",
     "output_type": "stream",
     "text": [
      "[0 1 2 3 4 5 6 7 8 9]\n"
     ]
    }
   ],
   "source": [
    "np.savez_compressed('array_com.npz',a=arr,b=brr)\n",
    "print(arr)"
   ]
  }
 ],
 "metadata": {
  "kernelspec": {
   "display_name": "Python 3 (ipykernel)",
   "language": "python",
   "name": "python3"
  },
  "language_info": {
   "codemirror_mode": {
    "name": "ipython",
    "version": 3
   },
   "file_extension": ".py",
   "mimetype": "text/x-python",
   "name": "python",
   "nbconvert_exporter": "python",
   "pygments_lexer": "ipython3",
   "version": "3.12.4"
  }
 },
 "nbformat": 4,
 "nbformat_minor": 5
}
