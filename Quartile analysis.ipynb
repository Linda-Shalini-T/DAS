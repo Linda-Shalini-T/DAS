{
 "cells": [
  {
   "cell_type": "code",
   "execution_count": 1,
   "id": "0c3dcd98-94a4-45a3-a843-6f19439ff7d6",
   "metadata": {},
   "outputs": [
    {
     "name": "stdout",
     "output_type": "stream",
     "text": [
      "    Day  Temperature Quartile\n",
      "0     1           12  Coldest\n",
      "1     2           14  Coldest\n",
      "2     3           15  Coldest\n",
      "3     4           16  Coldest\n",
      "4     5           17  Coldest\n",
      "5     6           18  Coldest\n",
      "6     7           20  Coldest\n",
      "7     8           21  Coldest\n",
      "8     9           22     Cool\n",
      "9    10           23     Cool\n",
      "10   11           24     Cool\n",
      "11   12           25     Cool\n",
      "12   13           26     Cool\n",
      "13   14           27     Cool\n",
      "14   15           28     Cool\n",
      "15   16           29     Warm\n",
      "16   17           30     Warm\n",
      "17   18           32     Warm\n",
      "18   19           33     Warm\n",
      "19   20           34     Warm\n",
      "20   21           35     Warm\n",
      "21   22           36     Warm\n",
      "22   23           37  Hottest\n",
      "23   24           38  Hottest\n",
      "24   25           39  Hottest\n",
      "25   26           40  Hottest\n",
      "26   27           41  Hottest\n",
      "27   28           42  Hottest\n",
      "28   29           43  Hottest\n",
      "29   30           44  Hottest\n"
     ]
    }
   ],
   "source": [
    "import pandas as pd \n",
    "data = {'Day': range(1, 31), 'Temperature': [12, 14, 15, 16, 17, 18, 20, 21, \n",
    "22, 23, 24, 25, 26, 27, 28, 29, 30, 32, 33, 34, 35, 36, 37, 38, 39, 40, 41, \n",
    "42, 43, 44]} \n",
    "df = pd.DataFrame(data) \n",
    "df['Quartile'] = pd.qcut(df['Temperature'], q=4, labels=['Coldest', 'Cool', \n",
    "'Warm', 'Hottest']) \n",
    "print(df) "
   ]
  },
  {
   "cell_type": "code",
   "execution_count": 3,
   "id": "035c5f0a-0103-46c8-aa6d-4f122aea38d6",
   "metadata": {},
   "outputs": [
    {
     "name": "stdout",
     "output_type": "stream",
     "text": [
      "Product    A    B\n",
      "Region           \n",
      "North    150  200\n",
      "South    100  250\n",
      "West     300  400\n"
     ]
    }
   ],
   "source": [
    "import pandas as pd \n",
    "# Sample dataset \n",
    "data = {'Region': ['North', 'North', 'South', 'South', 'West', 'West'], \n",
    "'Product': ['A', 'B', 'A', 'B', 'A', 'B'], \n",
    "'Sales': [150, 200, 100, 250, 300, 400]} \n",
    "df = pd.DataFrame(data) \n",
    "# Pivot Table \n",
    "pivot_table = df.pivot_table(values='Sales', index='Region', \n",
    "columns='Product', aggfunc='sum', fill_value=0) \n",
    "print(pivot_table) "
   ]
  },
  {
   "cell_type": "code",
   "execution_count": 9,
   "id": "e48e58b6-e2f9-44fe-b15b-eaa64b5f331a",
   "metadata": {},
   "outputs": [
    {
     "name": "stdout",
     "output_type": "stream",
     "text": [
      "Product    A    B   All\n",
      "Region                 \n",
      "North    150  200   350\n",
      "South    100  250   350\n",
      "West     300  400   700\n",
      "All      550  850  1400\n"
     ]
    }
   ],
   "source": [
    "# Crosstab \n",
    "crosstab = pd.crosstab(index=df['Region'], columns=df['Product'], \n",
    "values=df['Sales'], aggfunc='sum', margins=True) \n",
    "print(crosstab) "
   ]
  },
  {
   "cell_type": "code",
   "execution_count": null,
   "id": "57b85dd1-9e3e-4eae-b986-e2726a4f4481",
   "metadata": {},
   "outputs": [],
   "source": []
  }
 ],
 "metadata": {
  "kernelspec": {
   "display_name": "Python 3 (ipykernel)",
   "language": "python",
   "name": "python3"
  },
  "language_info": {
   "codemirror_mode": {
    "name": "ipython",
    "version": 3
   },
   "file_extension": ".py",
   "mimetype": "text/x-python",
   "name": "python",
   "nbconvert_exporter": "python",
   "pygments_lexer": "ipython3",
   "version": "3.12.4"
  }
 },
 "nbformat": 4,
 "nbformat_minor": 5
}
