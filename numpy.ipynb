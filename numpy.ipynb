{
 "cells": [
  {
   "cell_type": "code",
   "execution_count": 1,
   "id": "8de5c3a1-6de0-4b11-8bf1-36b085611730",
   "metadata": {},
   "outputs": [
    {
     "name": "stdout",
     "output_type": "stream",
     "text": [
      "Random Integer: 3\n"
     ]
    }
   ],
   "source": [
    "import numpy as np\n",
    "random_int = np.random.randint(1, 10)\n",
    "print(\"Random Integer:\", random_int)"
   ]
  },
  {
   "cell_type": "code",
   "execution_count": 3,
   "id": "6d304c28-826a-4cf2-a979-7a7873cebd9d",
   "metadata": {},
   "outputs": [
    {
     "name": "stdout",
     "output_type": "stream",
     "text": [
      "Random Float: 0.32692374748101305\n"
     ]
    }
   ],
   "source": [
    "random_float = np.random.rand()\n",
    "print(\"Random Float:\", random_float)"
   ]
  },
  {
   "cell_type": "code",
   "execution_count": 5,
   "id": "411afa66-f53a-4495-8c5c-a49fcbaf2443",
   "metadata": {},
   "outputs": [
    {
     "name": "stdout",
     "output_type": "stream",
     "text": [
      "Random Integer Array: [71 16 97 60 41]\n"
     ]
    }
   ],
   "source": [
    "# Generate an array of 5 random integers between 1 and 100\n",
    "random_array = np.random.randint(1, 100, size=5)\n",
    "print(\"Random Integer Array:\", random_array)\n"
   ]
  },
  {
   "cell_type": "code",
   "execution_count": 7,
   "id": "9798699c-1263-4ad0-aba6-cc843de43a54",
   "metadata": {},
   "outputs": [
    {
     "name": "stdout",
     "output_type": "stream",
     "text": [
      "Random Normal Distribution: [ 2.35347125  0.78427378 -0.76748065  1.18321792  0.65404236]\n"
     ]
    }
   ],
   "source": [
    "# Generate 5 numbers from a normal distribution with mean=0 and std=1\n",
    "random_normal = np.random.randn(5)\n",
    "print(\"Random Normal Distribution:\", random_normal)\n"
   ]
  },
  {
   "cell_type": "code",
   "execution_count": 9,
   "id": "96a6de2b-75b4-41ce-9114-8412d6f92de1",
   "metadata": {},
   "outputs": [
    {
     "name": "stdout",
     "output_type": "stream",
     "text": [
      "          A         B         C\n",
      "0  0.716916  0.702476  0.857961\n",
      "1  0.031670  0.858869  0.450975\n",
      "2  0.592658  0.582610  0.036199\n",
      "3  0.186316  0.663246  0.236456\n",
      "4  0.175228  0.277268  0.163665\n"
     ]
    }
   ],
   "source": [
    "import pandas as pd\n",
    "df = pd.DataFrame(np.random.rand(5, 3), columns=['A', 'B', 'C'])\n",
    "print(df)"
   ]
  },
  {
   "cell_type": "code",
   "execution_count": 11,
   "id": "bc4a7eac-4b32-4eac-b5b6-89356cf151df",
   "metadata": {},
   "outputs": [
    {
     "name": "stdout",
     "output_type": "stream",
     "text": [
      "    Name  Score\n",
      "0  Alice     85\n",
      "3  David     92\n"
     ]
    }
   ],
   "source": [
    "data = {'Name': ['Alice', 'Bob', 'Charlie', 'David', 'Eve'],\n",
    "        'Score': [85, 90, 78, 92, 88]}\n",
    "df = pd.DataFrame(data)\n",
    "random_sample = df.sample(n=2)\n",
    "print(random_sample)"
   ]
  },
  {
   "cell_type": "code",
   "execution_count": null,
   "id": "e3d437e8-afa5-4039-af4c-4d15c7e9c7bb",
   "metadata": {},
   "outputs": [],
   "source": []
  }
 ],
 "metadata": {
  "kernelspec": {
   "display_name": "Python 3 (ipykernel)",
   "language": "python",
   "name": "python3"
  },
  "language_info": {
   "codemirror_mode": {
    "name": "ipython",
    "version": 3
   },
   "file_extension": ".py",
   "mimetype": "text/x-python",
   "name": "python",
   "nbconvert_exporter": "python",
   "pygments_lexer": "ipython3",
   "version": "3.12.4"
  }
 },
 "nbformat": 4,
 "nbformat_minor": 5
}
