{
 "cells": [
  {
   "cell_type": "code",
   "execution_count": 2,
   "id": "238f1abe-648f-4c79-a6d6-d61bc1584372",
   "metadata": {},
   "outputs": [
    {
     "name": "stdin",
     "output_type": "stream",
     "text": [
      "Enter a number:  13\n"
     ]
    },
    {
     "name": "stdout",
     "output_type": "stream",
     "text": [
      "13 is not an Armstrong number.\n"
     ]
    }
   ],
   "source": [
    "\n",
    "def is_armstrong(n):\n",
    "    \n",
    "    num_str = str(n)\n",
    "    num_digits = len(num_str)\n",
    "\n",
    " \n",
    "    sum_of_digits = sum(int(digit) ** num_digits for digit in num_str)\n",
    "\n",
    "    return sum_of_digits == n\n",
    "\n",
    "num = int(input(\"Enter a number: \"))\n",
    "if is_armstrong(num):\n",
    "    print(num, \"is an Armstrong number.\")\n",
    "else:\n",
    "    print(num, \"is not an Armstrong number.\")\n",
    "\n",
    "\n"
   ]
  },
  {
   "cell_type": "code",
   "execution_count": null,
   "id": "13c0f443-6bff-469c-84fa-5cf57876636f",
   "metadata": {},
   "outputs": [],
   "source": [
    "\n",
    "def linear_search(arr, target):\n",
    "   \n",
    "    for i in range(len(arr)):\n",
    "       if arr[i] == target:\n",
    "           return i\n",
    "           return -1\n",
    "\n",
    "arr = [2, 5, 8, 12, 16, 23, 38, 56, 72, 91]\n",
    "target = int(input(\"Enter a number to search: \"))\n",
    "result = linear_search(arr, target)\n",
    "\n",
    "if result != -1:\n",
    "    print(f\"Element found at index {result}\")\n",
    "else:\n",
    "    print(\"Element not found in the array\")\n",
    "\n",
    "\n"
   ]
  }
 ],
 "metadata": {
  "kernelspec": {
   "display_name": "Python 3 (ipykernel)",
   "language": "python",
   "name": "python3"
  },
  "language_info": {
   "codemirror_mode": {
    "name": "ipython",
    "version": 3
   },
   "file_extension": ".py",
   "mimetype": "text/x-python",
   "name": "python",
   "nbconvert_exporter": "python",
   "pygments_lexer": "ipython3",
   "version": "3.12.4"
  }
 },
 "nbformat": 4,
 "nbformat_minor": 5
}
